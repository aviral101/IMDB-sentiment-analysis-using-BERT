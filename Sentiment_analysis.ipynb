{
  "cells": [
    {
      "cell_type": "code",
      "execution_count": null,
      "metadata": {
        "colab": {
          "base_uri": "https://localhost:8080/"
        },
        "id": "WrSlK65lC3cq",
        "outputId": "ab04fee3-815a-4d51-f4ee-0d6d9145aa07"
      },
      "outputs": [
        {
          "name": "stdout",
          "output_type": "stream",
          "text": [
            "12.1\n"
          ]
        }
      ],
      "source": [
        "from multiprocessing import reduction\n",
        "import pandas as pd\n",
        "import time\n",
        "import numpy as np\n",
        "import csv\n",
        "import argparse\n",
        "import math\n",
        "from tqdm import tqdm\n",
        "from sklearn.metrics import accuracy_score\n",
        "import torch\n",
        "from torch.utils.data import Dataset, DataLoader\n",
        "from transformers import AutoTokenizer, AutoConfig, AutoModelForTokenClassification, AutoModel, BertPreTrainedModel\n",
        "from torch import cuda\n",
        "import os\n",
        "import torch.nn as nn\n",
        "import torch.nn.functional as F\n",
        "from transformers.modeling_outputs import TokenClassifierOutput\n",
        "import warnings\n",
        "from sklearn.model_selection import train_test_split\n",
        "\n",
        "print(torch.version.cuda)\n",
        "MAX_LEN = 512 # suitable for all datasets\n",
        "BATCH_SIZE = 8\n",
        "LEARNING_RATE = 1e-5\n",
        "num_labels = 2"
      ]
    },
    {
      "cell_type": "code",
      "execution_count": null,
      "metadata": {
        "colab": {
          "base_uri": "https://localhost:8080/"
        },
        "id": "-4tDG6wJDoDa",
        "outputId": "b117c2de-87cd-470d-d029-20f34df4b5e9"
      },
      "outputs": [
        {
          "name": "stdout",
          "output_type": "stream",
          "text": [
            " drive\t'IMDB Dataset.csv'   live.txt   sample_data\n"
          ]
        }
      ],
      "source": [
        "!ls"
      ]
    },
    {
      "cell_type": "code",
      "execution_count": null,
      "metadata": {
        "id": "yQDMicUfC7bz"
      },
      "outputs": [],
      "source": [
        "# nRowsRead = 100\n",
        "data = pd.read_csv('IMDB Dataset.csv', delimiter=',')"
      ]
    },
    {
      "cell_type": "code",
      "execution_count": null,
      "metadata": {
        "colab": {
          "base_uri": "https://localhost:8080/",
          "height": 206
        },
        "id": "61eHeH7NDFrC",
        "outputId": "43fa9a2f-d69b-4ab2-cc6f-51811da6f2e7"
      },
      "outputs": [
        {
          "data": {
            "text/html": [
              "\n",
              "  <div id=\"df-c33a51d2-6055-452a-ac68-a07972650867\" class=\"colab-df-container\">\n",
              "    <div>\n",
              "<style scoped>\n",
              "    .dataframe tbody tr th:only-of-type {\n",
              "        vertical-align: middle;\n",
              "    }\n",
              "\n",
              "    .dataframe tbody tr th {\n",
              "        vertical-align: top;\n",
              "    }\n",
              "\n",
              "    .dataframe thead th {\n",
              "        text-align: right;\n",
              "    }\n",
              "</style>\n",
              "<table border=\"1\" class=\"dataframe\">\n",
              "  <thead>\n",
              "    <tr style=\"text-align: right;\">\n",
              "      <th></th>\n",
              "      <th>review</th>\n",
              "      <th>sentiment</th>\n",
              "    </tr>\n",
              "  </thead>\n",
              "  <tbody>\n",
              "    <tr>\n",
              "      <th>0</th>\n",
              "      <td>One of the other reviewers has mentioned that ...</td>\n",
              "      <td>positive</td>\n",
              "    </tr>\n",
              "    <tr>\n",
              "      <th>1</th>\n",
              "      <td>A wonderful little production. &lt;br /&gt;&lt;br /&gt;The...</td>\n",
              "      <td>positive</td>\n",
              "    </tr>\n",
              "    <tr>\n",
              "      <th>2</th>\n",
              "      <td>I thought this was a wonderful way to spend ti...</td>\n",
              "      <td>positive</td>\n",
              "    </tr>\n",
              "    <tr>\n",
              "      <th>3</th>\n",
              "      <td>Basically there's a family where a little boy ...</td>\n",
              "      <td>negative</td>\n",
              "    </tr>\n",
              "    <tr>\n",
              "      <th>4</th>\n",
              "      <td>Petter Mattei's \"Love in the Time of Money\" is...</td>\n",
              "      <td>positive</td>\n",
              "    </tr>\n",
              "  </tbody>\n",
              "</table>\n",
              "</div>\n",
              "    <div class=\"colab-df-buttons\">\n",
              "\n",
              "  <div class=\"colab-df-container\">\n",
              "    <button class=\"colab-df-convert\" onclick=\"convertToInteractive('df-c33a51d2-6055-452a-ac68-a07972650867')\"\n",
              "            title=\"Convert this dataframe to an interactive table.\"\n",
              "            style=\"display:none;\">\n",
              "\n",
              "  <svg xmlns=\"http://www.w3.org/2000/svg\" height=\"24px\" viewBox=\"0 -960 960 960\">\n",
              "    <path d=\"M120-120v-720h720v720H120Zm60-500h600v-160H180v160Zm220 220h160v-160H400v160Zm0 220h160v-160H400v160ZM180-400h160v-160H180v160Zm440 0h160v-160H620v160ZM180-180h160v-160H180v160Zm440 0h160v-160H620v160Z\"/>\n",
              "  </svg>\n",
              "    </button>\n",
              "\n",
              "  <style>\n",
              "    .colab-df-container {\n",
              "      display:flex;\n",
              "      gap: 12px;\n",
              "    }\n",
              "\n",
              "    .colab-df-convert {\n",
              "      background-color: #E8F0FE;\n",
              "      border: none;\n",
              "      border-radius: 50%;\n",
              "      cursor: pointer;\n",
              "      display: none;\n",
              "      fill: #1967D2;\n",
              "      height: 32px;\n",
              "      padding: 0 0 0 0;\n",
              "      width: 32px;\n",
              "    }\n",
              "\n",
              "    .colab-df-convert:hover {\n",
              "      background-color: #E2EBFA;\n",
              "      box-shadow: 0px 1px 2px rgba(60, 64, 67, 0.3), 0px 1px 3px 1px rgba(60, 64, 67, 0.15);\n",
              "      fill: #174EA6;\n",
              "    }\n",
              "\n",
              "    .colab-df-buttons div {\n",
              "      margin-bottom: 4px;\n",
              "    }\n",
              "\n",
              "    [theme=dark] .colab-df-convert {\n",
              "      background-color: #3B4455;\n",
              "      fill: #D2E3FC;\n",
              "    }\n",
              "\n",
              "    [theme=dark] .colab-df-convert:hover {\n",
              "      background-color: #434B5C;\n",
              "      box-shadow: 0px 1px 3px 1px rgba(0, 0, 0, 0.15);\n",
              "      filter: drop-shadow(0px 1px 2px rgba(0, 0, 0, 0.3));\n",
              "      fill: #FFFFFF;\n",
              "    }\n",
              "  </style>\n",
              "\n",
              "    <script>\n",
              "      const buttonEl =\n",
              "        document.querySelector('#df-c33a51d2-6055-452a-ac68-a07972650867 button.colab-df-convert');\n",
              "      buttonEl.style.display =\n",
              "        google.colab.kernel.accessAllowed ? 'block' : 'none';\n",
              "\n",
              "      async function convertToInteractive(key) {\n",
              "        const element = document.querySelector('#df-c33a51d2-6055-452a-ac68-a07972650867');\n",
              "        const dataTable =\n",
              "          await google.colab.kernel.invokeFunction('convertToInteractive',\n",
              "                                                    [key], {});\n",
              "        if (!dataTable) return;\n",
              "\n",
              "        const docLinkHtml = 'Like what you see? Visit the ' +\n",
              "          '<a target=\"_blank\" href=https://colab.research.google.com/notebooks/data_table.ipynb>data table notebook</a>'\n",
              "          + ' to learn more about interactive tables.';\n",
              "        element.innerHTML = '';\n",
              "        dataTable['output_type'] = 'display_data';\n",
              "        await google.colab.output.renderOutput(dataTable, element);\n",
              "        const docLink = document.createElement('div');\n",
              "        docLink.innerHTML = docLinkHtml;\n",
              "        element.appendChild(docLink);\n",
              "      }\n",
              "    </script>\n",
              "  </div>\n",
              "\n",
              "\n",
              "<div id=\"df-aaeb1517-cac6-4b11-814a-f7b412bd1beb\">\n",
              "  <button class=\"colab-df-quickchart\" onclick=\"quickchart('df-aaeb1517-cac6-4b11-814a-f7b412bd1beb')\"\n",
              "            title=\"Suggest charts\"\n",
              "            style=\"display:none;\">\n",
              "\n",
              "<svg xmlns=\"http://www.w3.org/2000/svg\" height=\"24px\"viewBox=\"0 0 24 24\"\n",
              "     width=\"24px\">\n",
              "    <g>\n",
              "        <path d=\"M19 3H5c-1.1 0-2 .9-2 2v14c0 1.1.9 2 2 2h14c1.1 0 2-.9 2-2V5c0-1.1-.9-2-2-2zM9 17H7v-7h2v7zm4 0h-2V7h2v10zm4 0h-2v-4h2v4z\"/>\n",
              "    </g>\n",
              "</svg>\n",
              "  </button>\n",
              "\n",
              "<style>\n",
              "  .colab-df-quickchart {\n",
              "      --bg-color: #E8F0FE;\n",
              "      --fill-color: #1967D2;\n",
              "      --hover-bg-color: #E2EBFA;\n",
              "      --hover-fill-color: #174EA6;\n",
              "      --disabled-fill-color: #AAA;\n",
              "      --disabled-bg-color: #DDD;\n",
              "  }\n",
              "\n",
              "  [theme=dark] .colab-df-quickchart {\n",
              "      --bg-color: #3B4455;\n",
              "      --fill-color: #D2E3FC;\n",
              "      --hover-bg-color: #434B5C;\n",
              "      --hover-fill-color: #FFFFFF;\n",
              "      --disabled-bg-color: #3B4455;\n",
              "      --disabled-fill-color: #666;\n",
              "  }\n",
              "\n",
              "  .colab-df-quickchart {\n",
              "    background-color: var(--bg-color);\n",
              "    border: none;\n",
              "    border-radius: 50%;\n",
              "    cursor: pointer;\n",
              "    display: none;\n",
              "    fill: var(--fill-color);\n",
              "    height: 32px;\n",
              "    padding: 0;\n",
              "    width: 32px;\n",
              "  }\n",
              "\n",
              "  .colab-df-quickchart:hover {\n",
              "    background-color: var(--hover-bg-color);\n",
              "    box-shadow: 0 1px 2px rgba(60, 64, 67, 0.3), 0 1px 3px 1px rgba(60, 64, 67, 0.15);\n",
              "    fill: var(--button-hover-fill-color);\n",
              "  }\n",
              "\n",
              "  .colab-df-quickchart-complete:disabled,\n",
              "  .colab-df-quickchart-complete:disabled:hover {\n",
              "    background-color: var(--disabled-bg-color);\n",
              "    fill: var(--disabled-fill-color);\n",
              "    box-shadow: none;\n",
              "  }\n",
              "\n",
              "  .colab-df-spinner {\n",
              "    border: 2px solid var(--fill-color);\n",
              "    border-color: transparent;\n",
              "    border-bottom-color: var(--fill-color);\n",
              "    animation:\n",
              "      spin 1s steps(1) infinite;\n",
              "  }\n",
              "\n",
              "  @keyframes spin {\n",
              "    0% {\n",
              "      border-color: transparent;\n",
              "      border-bottom-color: var(--fill-color);\n",
              "      border-left-color: var(--fill-color);\n",
              "    }\n",
              "    20% {\n",
              "      border-color: transparent;\n",
              "      border-left-color: var(--fill-color);\n",
              "      border-top-color: var(--fill-color);\n",
              "    }\n",
              "    30% {\n",
              "      border-color: transparent;\n",
              "      border-left-color: var(--fill-color);\n",
              "      border-top-color: var(--fill-color);\n",
              "      border-right-color: var(--fill-color);\n",
              "    }\n",
              "    40% {\n",
              "      border-color: transparent;\n",
              "      border-right-color: var(--fill-color);\n",
              "      border-top-color: var(--fill-color);\n",
              "    }\n",
              "    60% {\n",
              "      border-color: transparent;\n",
              "      border-right-color: var(--fill-color);\n",
              "    }\n",
              "    80% {\n",
              "      border-color: transparent;\n",
              "      border-right-color: var(--fill-color);\n",
              "      border-bottom-color: var(--fill-color);\n",
              "    }\n",
              "    90% {\n",
              "      border-color: transparent;\n",
              "      border-bottom-color: var(--fill-color);\n",
              "    }\n",
              "  }\n",
              "</style>\n",
              "\n",
              "  <script>\n",
              "    async function quickchart(key) {\n",
              "      const quickchartButtonEl =\n",
              "        document.querySelector('#' + key + ' button');\n",
              "      quickchartButtonEl.disabled = true;  // To prevent multiple clicks.\n",
              "      quickchartButtonEl.classList.add('colab-df-spinner');\n",
              "      try {\n",
              "        const charts = await google.colab.kernel.invokeFunction(\n",
              "            'suggestCharts', [key], {});\n",
              "      } catch (error) {\n",
              "        console.error('Error during call to suggestCharts:', error);\n",
              "      }\n",
              "      quickchartButtonEl.classList.remove('colab-df-spinner');\n",
              "      quickchartButtonEl.classList.add('colab-df-quickchart-complete');\n",
              "    }\n",
              "    (() => {\n",
              "      let quickchartButtonEl =\n",
              "        document.querySelector('#df-aaeb1517-cac6-4b11-814a-f7b412bd1beb button');\n",
              "      quickchartButtonEl.style.display =\n",
              "        google.colab.kernel.accessAllowed ? 'block' : 'none';\n",
              "    })();\n",
              "  </script>\n",
              "</div>\n",
              "\n",
              "    </div>\n",
              "  </div>\n"
            ],
            "text/plain": [
              "                                              review sentiment\n",
              "0  One of the other reviewers has mentioned that ...  positive\n",
              "1  A wonderful little production. <br /><br />The...  positive\n",
              "2  I thought this was a wonderful way to spend ti...  positive\n",
              "3  Basically there's a family where a little boy ...  negative\n",
              "4  Petter Mattei's \"Love in the Time of Money\" is...  positive"
            ]
          },
          "execution_count": 4,
          "metadata": {},
          "output_type": "execute_result"
        }
      ],
      "source": [
        "data[:5]"
      ]
    },
    {
      "cell_type": "code",
      "execution_count": null,
      "metadata": {
        "id": "A4F_GpB2DI8i"
      },
      "outputs": [],
      "source": [
        "class dataset(Dataset):\n",
        "    def __init__(self, sentences, labels, tokenizer):\n",
        "        self.sentences = sentences\n",
        "        self.labels = labels\n",
        "        self.max_len = 512   #Max token input to bert\n",
        "        self.tokenizer = tokenizer\n",
        "        self.len = len(labels)\n",
        "\n",
        "    def __getitem__(self, index):\n",
        "        # step 1: tokenize sentence and adapt labels\n",
        "        sentence = self.sentences[index]\n",
        "        label = self.labels[index]\n",
        "        # print(sentence)\n",
        "\n",
        "        tokenized_sentence = ['[CLS]'] + sentence + ['[SEP]']\n",
        "\n",
        "        # step 3: truncating or padding\n",
        "        max_len = self.max_len\n",
        "        #print(tokenized_sentence)\n",
        "        if len(tokenized_sentence) > max_len:\n",
        "            #truncate\n",
        "            tokenized_sentence = tokenized_sentence[:max_len]\n",
        "        else:\n",
        "            # pad\n",
        "            tokenized_sentence = tokenized_sentence + ['[PAD]' for _ in range(max_len - len(tokenized_sentence))]\n",
        "\n",
        "        # step 4: obtain attention mask\n",
        "        attn_mask = [1 if tok != '[PAD]' else 0 for tok in tokenized_sentence]\n",
        "        # step 5: convert tokens to input ids\n",
        "        token_ids = self.tokenizer.convert_tokens_to_ids(tokenized_sentence)\n",
        "        target = []\n",
        "        label_to_id = {'positive' : 0, 'negative' : 1}\n",
        "        id_to_label = {0: 'positive', 1: 'negative'}\n",
        "        label_id = label_to_id[label]\n",
        "        target.append(label_id)\n",
        "\n",
        "        return {\n",
        "            'index': index,\n",
        "            'ids': torch.tensor(token_ids, dtype=torch.long),\n",
        "            'mask': torch.tensor(attn_mask, dtype=torch.long),\n",
        "            'target': torch.tensor(target, dtype=torch.long)\n",
        "        }\n",
        "\n",
        "    def __len__(self):\n",
        "        return self.len"
      ]
    },
    {
      "cell_type": "code",
      "execution_count": null,
      "metadata": {
        "colab": {
          "base_uri": "https://localhost:8080/"
        },
        "id": "GIiAWhecHS0K",
        "outputId": "a5e362ae-b0d4-4fd6-b239-6d510a42c478"
      },
      "outputs": [
        {
          "data": {
            "text/plain": [
              "['positive', 'positive', 'positive', 'negative', 'positive']"
            ]
          },
          "execution_count": 6,
          "metadata": {},
          "output_type": "execute_result"
        }
      ],
      "source": [
        "sentence_list = data['review'].tolist()\n",
        "labels = data['sentiment'].tolist()\n",
        "labels[:5]"
      ]
    },
    {
      "cell_type": "code",
      "execution_count": null,
      "metadata": {
        "colab": {
          "base_uri": "https://localhost:8080/"
        },
        "id": "9qEMs_z0J6qt",
        "outputId": "ea537f06-f38d-4629-9b22-a33e2de5bc51"
      },
      "outputs": [
        {
          "data": {
            "text/plain": [
              "[\"One of the other reviewers has mentioned that after watching just 1 Oz episode you'll be hooked. They are right, as this is exactly what happened with me.<br /><br />The first thing that struck me about Oz was its brutality and unflinching scenes of violence, which set in right from the word GO. Trust me, this is not a show for the faint hearted or timid. This show pulls no punches with regards to drugs, sex or violence. Its is hardcore, in the classic use of the word.<br /><br />It is called OZ as that is the nickname given to the Oswald Maximum Security State Penitentary. It focuses mainly on Emerald City, an experimental section of the prison where all the cells have glass fronts and face inwards, so privacy is not high on the agenda. Em City is home to many..Aryans, Muslims, gangstas, Latinos, Christians, Italians, Irish and more....so scuffles, death stares, dodgy dealings and shady agreements are never far away.<br /><br />I would say the main appeal of the show is due to the fact that it goes where other shows wouldn't dare. Forget pretty pictures painted for mainstream audiences, forget charm, forget romance...OZ doesn't mess around. The first episode I ever saw struck me as so nasty it was surreal, I couldn't say I was ready for it, but as I watched more, I developed a taste for Oz, and got accustomed to the high levels of graphic violence. Not just violence, but injustice (crooked guards who'll be sold out for a nickel, inmates who'll kill on order and get away with it, well mannered, middle class inmates being turned into prison bitches due to their lack of street skills or prison experience) Watching Oz, you may become comfortable with what is uncomfortable viewing....thats if you can get in touch with your darker side.\",\n",
              " 'A wonderful little production. <br /><br />The filming technique is very unassuming- very old-time-BBC fashion and gives a comforting, and sometimes discomforting, sense of realism to the entire piece. <br /><br />The actors are extremely well chosen- Michael Sheen not only \"has got all the polari\" but he has all the voices down pat too! You can truly see the seamless editing guided by the references to Williams\\' diary entries, not only is it well worth the watching but it is a terrificly written and performed piece. A masterful production about one of the great master\\'s of comedy and his life. <br /><br />The realism really comes home with the little things: the fantasy of the guard which, rather than use the traditional \\'dream\\' techniques remains solid then disappears. It plays on our knowledge and our senses, particularly with the scenes concerning Orton and Halliwell and the sets (particularly of their flat with Halliwell\\'s murals decorating every surface) are terribly well done.']"
            ]
          },
          "execution_count": 7,
          "metadata": {},
          "output_type": "execute_result"
        }
      ],
      "source": [
        "sentence_list[:2]"
      ]
    },
    {
      "cell_type": "code",
      "execution_count": null,
      "metadata": {
        "colab": {
          "base_uri": "https://localhost:8080/"
        },
        "id": "LmHav5I4LW76",
        "outputId": "897cc7b3-6524-4752-9fe7-9bfc838cff9f"
      },
      "outputs": [
        {
          "name": "stderr",
          "output_type": "stream",
          "text": [
            "/usr/local/lib/python3.10/dist-packages/huggingface_hub/utils/_token.py:88: UserWarning: \n",
            "The secret `HF_TOKEN` does not exist in your Colab secrets.\n",
            "To authenticate with the Hugging Face Hub, create a token in your settings tab (https://huggingface.co/settings/tokens), set it as secret in your Google Colab and restart your session.\n",
            "You will be able to reuse this secret in all of your notebooks.\n",
            "Please note that authentication is recommended but still optional to access public models or datasets.\n",
            "  warnings.warn(\n"
          ]
        }
      ],
      "source": [
        "tokenizer = AutoTokenizer.from_pretrained(\"bert-base-uncased\")"
      ]
    },
    {
      "cell_type": "code",
      "execution_count": null,
      "metadata": {
        "id": "8q3bkaNeKKDN"
      },
      "outputs": [],
      "source": [
        "tokenized_sentences = []\n",
        "for sentence in sentence_list:\n",
        "  split_sentence = list(sentence.split(' '))\n",
        "  new_sentence = []\n",
        "  for word in split_sentence:\n",
        "    new_words = tokenizer.tokenize(word)\n",
        "    new_sentence.extend(new_words)\n",
        "  tokenized_sentences.append(new_sentence)"
      ]
    },
    {
      "cell_type": "code",
      "execution_count": null,
      "metadata": {
        "id": "ebHm_qOVHKfT"
      },
      "outputs": [],
      "source": [
        "full_dataset  = dataset(sentences=tokenized_sentences, labels = labels, tokenizer=tokenizer)"
      ]
    },
    {
      "cell_type": "code",
      "execution_count": null,
      "metadata": {
        "colab": {
          "base_uri": "https://localhost:8080/"
        },
        "id": "G3YOXmPaIlgC",
        "outputId": "5a78db10-7f9f-4861-860c-e8398b52bb2e"
      },
      "outputs": [
        {
          "data": {
            "text/plain": [
              "{'index': 0,\n",
              " 'ids': tensor([  101,  2028,  1997,  1996,  2060, 15814,  2038,  3855,  2008,  2044,\n",
              "          3666,  2074,  1015, 11472,  2792,  2017,  1005,  2222,  2022, 13322,\n",
              "          1012,  2027,  2024,  2157,  1010,  2004,  2023,  2003,  3599,  2054,\n",
              "          3047,  2007,  2033,  1012,  1026,  7987,  1013,  1028,  1026,  7987,\n",
              "          1013,  1028,  1996,  2034,  2518,  2008,  4930,  2033,  2055, 11472,\n",
              "          2001,  2049, 24083,  1998,  4895, 10258,  2378,  8450,  5019,  1997,\n",
              "          4808,  1010,  2029,  2275,  1999,  2157,  2013,  1996,  2773,  2175,\n",
              "          1012,  3404,  2033,  1010,  2023,  2003,  2025,  1037,  2265,  2005,\n",
              "          1996,  8143, 18627,  2030,  5199,  3593,  1012,  2023,  2265,  8005,\n",
              "          2053, 17957,  2007, 12362,  2000,  5850,  1010,  3348,  2030,  4808,\n",
              "          1012,  2049,  2003, 13076,  1010,  1999,  1996,  4438,  2224,  1997,\n",
              "          1996,  2773,  1012,  1026,  7987,  1013,  1028,  1026,  7987,  1013,\n",
              "          1028,  2009,  2003,  2170, 11472,  2004,  2008,  2003,  1996,  8367,\n",
              "          2445,  2000,  1996, 17411,  4555,  3036,  2110,  7279,  4221, 12380,\n",
              "          2854,  1012,  2009,  7679,  3701,  2006, 14110,  2103,  1010,  2019,\n",
              "          6388,  2930,  1997,  1996,  3827,  2073,  2035,  1996,  4442,  2031,\n",
              "          3221, 21430,  1998,  2227, 20546,  2015,  1010,  2061,  9394,  2003,\n",
              "          2025,  2152,  2006,  1996, 11376,  1012,  7861,  2103,  2003,  2188,\n",
              "          2000,  2116,  1012,  1012, 26030,  2015,  1010,  7486,  1010, 18542,\n",
              "         10230,  1010,  7402,  2015,  1010,  8135,  1010, 16773,  1010,  3493,\n",
              "          1998,  2062,  1012,  1012,  1012,  1012,  2061,  8040, 16093, 28331,\n",
              "          1010,  2331, 14020,  1010, 26489,  6292, 24069,  1998, 22824, 10540,\n",
              "          2024,  2196,  2521,  2185,  1012,  1026,  7987,  1013,  1028,  1026,\n",
              "          7987,  1013,  1028,  1045,  2052,  2360,  1996,  2364,  5574,  1997,\n",
              "          1996,  2265,  2003,  2349,  2000,  1996,  2755,  2008,  2009,  3632,\n",
              "          2073,  2060,  3065,  2876,  1005,  1056,  8108,  1012,  5293,  3492,\n",
              "          4620,  4993,  2005,  7731,  9501,  1010,  5293, 11084,  1010,  5293,\n",
              "          7472,  1012,  1012,  1012, 11472,  2987,  1005,  1056,  6752,  2105,\n",
              "          1012,  1996,  2034,  2792,  1045,  2412,  2387,  4930,  2033,  2004,\n",
              "          2061, 11808,  2009,  2001, 16524,  1010,  1045,  2481,  1005,  1056,\n",
              "          2360,  1045,  2001,  3201,  2005,  2009,  1010,  2021,  2004,  1045,\n",
              "          3427,  2062,  1010,  1045,  2764,  1037,  5510,  2005, 11472,  1010,\n",
              "          1998,  2288, 17730,  2000,  1996,  2152,  3798,  1997,  8425,  4808,\n",
              "          1012,  2025,  2074,  4808,  1010,  2021, 21321,  1006, 15274,  4932,\n",
              "          2040,  1005,  2222,  2022,  2853,  2041,  2005,  1037, 15519,  1010,\n",
              "         13187,  2040,  1005,  2222,  3102,  2006,  2344,  1998,  2131,  2185,\n",
              "          2007,  2009,  1010,  2092,  5450,  2098,  1010,  2690,  2465, 13187,\n",
              "          2108,  2357,  2046,  3827,  7743,  2229,  2349,  2000,  2037,  3768,\n",
              "          1997,  2395,  4813,  2030,  3827,  3325,  1007,  3666, 11472,  1010,\n",
              "          2017,  2089,  2468,  6625,  2007,  2054,  2003,  8796, 10523,  1012,\n",
              "          1012,  1012,  1012,  2008,  2015,  2065,  2017,  2064,  2131,  1999,\n",
              "          3543,  2007,  2115,  9904,  2217,  1012,   102,     0,     0,     0,\n",
              "             0,     0,     0,     0,     0,     0,     0,     0,     0,     0,\n",
              "             0,     0,     0,     0,     0,     0,     0,     0,     0,     0,\n",
              "             0,     0,     0,     0,     0,     0,     0,     0,     0,     0,\n",
              "             0,     0,     0,     0,     0,     0,     0,     0,     0,     0,\n",
              "             0,     0,     0,     0,     0,     0,     0,     0,     0,     0,\n",
              "             0,     0,     0,     0,     0,     0,     0,     0,     0,     0,\n",
              "             0,     0,     0,     0,     0,     0,     0,     0,     0,     0,\n",
              "             0,     0,     0,     0,     0,     0,     0,     0,     0,     0,\n",
              "             0,     0,     0,     0,     0,     0,     0,     0,     0,     0,\n",
              "             0,     0]),\n",
              " 'mask': tensor([1, 1, 1, 1, 1, 1, 1, 1, 1, 1, 1, 1, 1, 1, 1, 1, 1, 1, 1, 1, 1, 1, 1, 1,\n",
              "         1, 1, 1, 1, 1, 1, 1, 1, 1, 1, 1, 1, 1, 1, 1, 1, 1, 1, 1, 1, 1, 1, 1, 1,\n",
              "         1, 1, 1, 1, 1, 1, 1, 1, 1, 1, 1, 1, 1, 1, 1, 1, 1, 1, 1, 1, 1, 1, 1, 1,\n",
              "         1, 1, 1, 1, 1, 1, 1, 1, 1, 1, 1, 1, 1, 1, 1, 1, 1, 1, 1, 1, 1, 1, 1, 1,\n",
              "         1, 1, 1, 1, 1, 1, 1, 1, 1, 1, 1, 1, 1, 1, 1, 1, 1, 1, 1, 1, 1, 1, 1, 1,\n",
              "         1, 1, 1, 1, 1, 1, 1, 1, 1, 1, 1, 1, 1, 1, 1, 1, 1, 1, 1, 1, 1, 1, 1, 1,\n",
              "         1, 1, 1, 1, 1, 1, 1, 1, 1, 1, 1, 1, 1, 1, 1, 1, 1, 1, 1, 1, 1, 1, 1, 1,\n",
              "         1, 1, 1, 1, 1, 1, 1, 1, 1, 1, 1, 1, 1, 1, 1, 1, 1, 1, 1, 1, 1, 1, 1, 1,\n",
              "         1, 1, 1, 1, 1, 1, 1, 1, 1, 1, 1, 1, 1, 1, 1, 1, 1, 1, 1, 1, 1, 1, 1, 1,\n",
              "         1, 1, 1, 1, 1, 1, 1, 1, 1, 1, 1, 1, 1, 1, 1, 1, 1, 1, 1, 1, 1, 1, 1, 1,\n",
              "         1, 1, 1, 1, 1, 1, 1, 1, 1, 1, 1, 1, 1, 1, 1, 1, 1, 1, 1, 1, 1, 1, 1, 1,\n",
              "         1, 1, 1, 1, 1, 1, 1, 1, 1, 1, 1, 1, 1, 1, 1, 1, 1, 1, 1, 1, 1, 1, 1, 1,\n",
              "         1, 1, 1, 1, 1, 1, 1, 1, 1, 1, 1, 1, 1, 1, 1, 1, 1, 1, 1, 1, 1, 1, 1, 1,\n",
              "         1, 1, 1, 1, 1, 1, 1, 1, 1, 1, 1, 1, 1, 1, 1, 1, 1, 1, 1, 1, 1, 1, 1, 1,\n",
              "         1, 1, 1, 1, 1, 1, 1, 1, 1, 1, 1, 1, 1, 1, 1, 1, 1, 1, 1, 1, 1, 1, 1, 1,\n",
              "         1, 1, 1, 1, 1, 1, 1, 1, 1, 1, 1, 1, 1, 1, 1, 1, 1, 1, 1, 1, 1, 1, 1, 1,\n",
              "         1, 1, 1, 1, 1, 1, 1, 1, 1, 1, 1, 1, 1, 1, 1, 1, 1, 1, 1, 1, 1, 1, 1, 1,\n",
              "         1, 1, 1, 1, 1, 1, 1, 1, 1, 0, 0, 0, 0, 0, 0, 0, 0, 0, 0, 0, 0, 0, 0, 0,\n",
              "         0, 0, 0, 0, 0, 0, 0, 0, 0, 0, 0, 0, 0, 0, 0, 0, 0, 0, 0, 0, 0, 0, 0, 0,\n",
              "         0, 0, 0, 0, 0, 0, 0, 0, 0, 0, 0, 0, 0, 0, 0, 0, 0, 0, 0, 0, 0, 0, 0, 0,\n",
              "         0, 0, 0, 0, 0, 0, 0, 0, 0, 0, 0, 0, 0, 0, 0, 0, 0, 0, 0, 0, 0, 0, 0, 0,\n",
              "         0, 0, 0, 0, 0, 0, 0, 0]),\n",
              " 'target': tensor([0])}"
            ]
          },
          "execution_count": 11,
          "metadata": {},
          "output_type": "execute_result"
        }
      ],
      "source": [
        "full_dataset[0]"
      ]
    },
    {
      "cell_type": "code",
      "execution_count": null,
      "metadata": {
        "id": "hXMdgF6WKpqx"
      },
      "outputs": [],
      "source": [
        "train_size = int(0.8 * len(full_dataset))\n",
        "devel_size = int(0.1 * len(full_dataset))\n",
        "test_size = len(full_dataset) - train_size - devel_size\n",
        "train_dataset, devel_dataset, test_dataset = torch.utils.data.random_split(full_dataset, [train_size, devel_size, test_size])"
      ]
    },
    {
      "cell_type": "code",
      "execution_count": null,
      "metadata": {
        "colab": {
          "base_uri": "https://localhost:8080/"
        },
        "id": "jL2Q_AJFLBTB",
        "outputId": "fbd0fad7-0160-45e1-aa88-58218c758952"
      },
      "outputs": [
        {
          "data": {
            "text/plain": [
              "{'index': 82,\n",
              " 'ids': tensor([  101,  2821,  2643,  1010,  1045,  2442,  2031,  2464,  2023,  2043,\n",
              "          1045,  2001,  2069,  2340,  2030,  4376,  1010,  1006,  2123,  1005,\n",
              "          1056,  3198,  2129,  1007,  1045,  2089,  2031,  2042,  2402,  1010,\n",
              "          2021,  1045,  2347,  1005,  1056,  5236,  1012,  3087,  2071,  2156,\n",
              "          2008,  2023,  2003,  1037,  2919,  3185,  1010, 11808,  1010,  7977,\n",
              "          1010,  4895, 15782,  2854,  1998,  2200, 10021,  1012,  1045,  1005,\n",
              "          2310,  2464,  2062,  8052,  3896,  2012, 25104,  1010,  1045,  1005,\n",
              "          2310,  2464,  2488,  4616,  2012,  1037,  2082,  2377,  1010,  1998,\n",
              "          1045,  1005,  2310,  2464,  2062, 13359, 21843,  2015,  2012,  1996,\n",
              "          9201,  1010,  2073,  2027,  2079,  2498,  2021,  4133,  1999,  1996,\n",
              "          2300,  1010,  9217,  1996,  2336, 15135,  2006,  1996,  3221,  1012,\n",
              "          1026,  7987,  1013,  1028,  1026,  7987,  1013,  1028,  1996,  2466,\n",
              "          2003,  2275,  1999,  2642,  2660,  1012,  1037,  9210,  1997, 12479,\n",
              "          2402,  2111,  1010,  2024,  2667,  2041,  1037,  2047,  2300,  4368,\n",
              "          1010, 19967,  1999, 11420,  3561,  5380,  1012,  2009,  2574,  4150,\n",
              "         10358,  2008,  2242,  2062,  4795,  2003,  1999,  1996,  2300,  1012,\n",
              "          2044,  2027,  4553,  2054,  1010,  2027,  2131,  1996,  2393,  1997,\n",
              "          1037, 24665, 29266,  2690,  4793, 19949,  1010,  2040,  4122,  2000,\n",
              "          3102,  1996,  4111,  2000, 24896,  1996,  5983,  1997,  2010,  2155,\n",
              "          1012,  1026,  7987,  1013,  1028,  1026,  7987,  1013,  1028,  1045,\n",
              "          2228,  1045,  2031,  2464,  2296, 21843,  2143,  2081,  1999,  1996,\n",
              "          2197,  5417,  2086,  1010,  1996,  2190,  1997,  2029,  2003,  2697,\n",
              "         20228,  6305,  3593,  1010,  1998,  1996,  4788,  1997,  2029,  2003,\n",
              "          2049,  8297,  1012,  2668, 14175,  2052,  2031,  2000,  2022,  1996,\n",
              "          2117,  5409, 13675, 10085, 17312,  1045,  2228,  1010,  2007,  3539,\n",
              "         10175,  1998, 21843,  5725,  2075,  4876,  2369,  1012,  1026,  7987,\n",
              "          1013,  1028,  1026,  7987,  1013,  1028,  1996,  2827,  5474,  5880,\n",
              "         13675,  7716,  7716,  9463,  2003,  2028,  1997,  1996,  2087,  4795,\n",
              "          7329,  2041,  2045,  1010,  4525,  1999,  2062,  2084,  1037,  3634,\n",
              "          6441,  2030,  6677,  2296,  2095,  1012,  5691,  2066,  2668, 14175,\n",
              "          2174, 10083,  2025,  2069,  1996, 27863,  3746,  1997,  2107,  1037,\n",
              "          6492,  1010,  2021,  1037,  2204,  3178,  1998,  1037,  2431,  1997,\n",
              "          1996, 13972,  1005,  1055,  2166,  1012,  4983,  2017,  2428,  2215,\n",
              "          2000,  2156,  2009,  1010,  4468,  2668, 14175,  1012,   102,     0,\n",
              "             0,     0,     0,     0,     0,     0,     0,     0,     0,     0,\n",
              "             0,     0,     0,     0,     0,     0,     0,     0,     0,     0,\n",
              "             0,     0,     0,     0,     0,     0,     0,     0,     0,     0,\n",
              "             0,     0,     0,     0,     0,     0,     0,     0,     0,     0,\n",
              "             0,     0,     0,     0,     0,     0,     0,     0,     0,     0,\n",
              "             0,     0,     0,     0,     0,     0,     0,     0,     0,     0,\n",
              "             0,     0,     0,     0,     0,     0,     0,     0,     0,     0,\n",
              "             0,     0,     0,     0,     0,     0,     0,     0,     0,     0,\n",
              "             0,     0,     0,     0,     0,     0,     0,     0,     0,     0,\n",
              "             0,     0,     0,     0,     0,     0,     0,     0,     0,     0,\n",
              "             0,     0,     0,     0,     0,     0,     0,     0,     0,     0,\n",
              "             0,     0,     0,     0,     0,     0,     0,     0,     0,     0,\n",
              "             0,     0,     0,     0,     0,     0,     0,     0,     0,     0,\n",
              "             0,     0,     0,     0,     0,     0,     0,     0,     0,     0,\n",
              "             0,     0,     0,     0,     0,     0,     0,     0,     0,     0,\n",
              "             0,     0,     0,     0,     0,     0,     0,     0,     0,     0,\n",
              "             0,     0,     0,     0,     0,     0,     0,     0,     0,     0,\n",
              "             0,     0]),\n",
              " 'mask': tensor([1, 1, 1, 1, 1, 1, 1, 1, 1, 1, 1, 1, 1, 1, 1, 1, 1, 1, 1, 1, 1, 1, 1, 1,\n",
              "         1, 1, 1, 1, 1, 1, 1, 1, 1, 1, 1, 1, 1, 1, 1, 1, 1, 1, 1, 1, 1, 1, 1, 1,\n",
              "         1, 1, 1, 1, 1, 1, 1, 1, 1, 1, 1, 1, 1, 1, 1, 1, 1, 1, 1, 1, 1, 1, 1, 1,\n",
              "         1, 1, 1, 1, 1, 1, 1, 1, 1, 1, 1, 1, 1, 1, 1, 1, 1, 1, 1, 1, 1, 1, 1, 1,\n",
              "         1, 1, 1, 1, 1, 1, 1, 1, 1, 1, 1, 1, 1, 1, 1, 1, 1, 1, 1, 1, 1, 1, 1, 1,\n",
              "         1, 1, 1, 1, 1, 1, 1, 1, 1, 1, 1, 1, 1, 1, 1, 1, 1, 1, 1, 1, 1, 1, 1, 1,\n",
              "         1, 1, 1, 1, 1, 1, 1, 1, 1, 1, 1, 1, 1, 1, 1, 1, 1, 1, 1, 1, 1, 1, 1, 1,\n",
              "         1, 1, 1, 1, 1, 1, 1, 1, 1, 1, 1, 1, 1, 1, 1, 1, 1, 1, 1, 1, 1, 1, 1, 1,\n",
              "         1, 1, 1, 1, 1, 1, 1, 1, 1, 1, 1, 1, 1, 1, 1, 1, 1, 1, 1, 1, 1, 1, 1, 1,\n",
              "         1, 1, 1, 1, 1, 1, 1, 1, 1, 1, 1, 1, 1, 1, 1, 1, 1, 1, 1, 1, 1, 1, 1, 1,\n",
              "         1, 1, 1, 1, 1, 1, 1, 1, 1, 1, 1, 1, 1, 1, 1, 1, 1, 1, 1, 1, 1, 1, 1, 1,\n",
              "         1, 1, 1, 1, 1, 1, 1, 1, 1, 1, 1, 1, 1, 1, 1, 1, 1, 1, 1, 1, 1, 1, 1, 1,\n",
              "         1, 1, 1, 1, 1, 1, 1, 1, 1, 1, 1, 1, 1, 1, 1, 1, 1, 1, 1, 1, 1, 1, 1, 1,\n",
              "         1, 1, 1, 1, 1, 1, 1, 1, 1, 1, 1, 1, 1, 1, 1, 1, 1, 1, 1, 1, 1, 1, 1, 1,\n",
              "         1, 1, 1, 0, 0, 0, 0, 0, 0, 0, 0, 0, 0, 0, 0, 0, 0, 0, 0, 0, 0, 0, 0, 0,\n",
              "         0, 0, 0, 0, 0, 0, 0, 0, 0, 0, 0, 0, 0, 0, 0, 0, 0, 0, 0, 0, 0, 0, 0, 0,\n",
              "         0, 0, 0, 0, 0, 0, 0, 0, 0, 0, 0, 0, 0, 0, 0, 0, 0, 0, 0, 0, 0, 0, 0, 0,\n",
              "         0, 0, 0, 0, 0, 0, 0, 0, 0, 0, 0, 0, 0, 0, 0, 0, 0, 0, 0, 0, 0, 0, 0, 0,\n",
              "         0, 0, 0, 0, 0, 0, 0, 0, 0, 0, 0, 0, 0, 0, 0, 0, 0, 0, 0, 0, 0, 0, 0, 0,\n",
              "         0, 0, 0, 0, 0, 0, 0, 0, 0, 0, 0, 0, 0, 0, 0, 0, 0, 0, 0, 0, 0, 0, 0, 0,\n",
              "         0, 0, 0, 0, 0, 0, 0, 0, 0, 0, 0, 0, 0, 0, 0, 0, 0, 0, 0, 0, 0, 0, 0, 0,\n",
              "         0, 0, 0, 0, 0, 0, 0, 0]),\n",
              " 'target': tensor([1])}"
            ]
          },
          "execution_count": 13,
          "metadata": {},
          "output_type": "execute_result"
        }
      ],
      "source": [
        "devel_dataset[0]"
      ]
    },
    {
      "cell_type": "code",
      "execution_count": null,
      "metadata": {
        "id": "KA5XCfKTHqvS"
      },
      "outputs": [],
      "source": [
        "\n",
        "class MainModel(BertPreTrainedModel):\n",
        "    def __init__(self, config):\n",
        "        super(MainModel,self).__init__(config)\n",
        "        self.num_labels = num_labels\n",
        "        self.bert = AutoModel.from_pretrained(\"bert-base-uncased\")\n",
        "        # two fully connected layers\n",
        "        self.hidden_layer = nn.Linear(768, 2*(self.num_labels))\n",
        "        self.classifier = nn.Linear(2*(self.num_labels),self.num_labels)\n",
        "\n",
        "    def forward(self, input_ids, attention_mask, labels,device):\n",
        "\n",
        "        output = self.bert(input_ids, attention_mask = attention_mask)\n",
        "        output = output.last_hidden_state\n",
        "        output = output[:,0,:]\n",
        "        hidden_output = self.hidden_layer(output)\n",
        "        classifier_out = self.classifier(hidden_output)\n",
        "        main_prob = F.softmax(classifier_out, dim = 1)\n",
        "        loss_main = F.cross_entropy(main_prob, labels.view(-1))\n",
        "        return loss_main,main_prob"
      ]
    },
    {
      "cell_type": "code",
      "execution_count": null,
      "metadata": {
        "id": "7T5PekuLHu5i"
      },
      "outputs": [],
      "source": [
        "\n",
        "def train(model, dataloader, optimizer, device):\n",
        "    tr_loss, tr_accuracy = 0, 0\n",
        "    bias_loss = 0\n",
        "    # tr_preds, tr_labels = [], []\n",
        "    nb_tr_steps = 0\n",
        "    #put model in training mode\n",
        "    model.train()\n",
        "\n",
        "    for idx, batch in enumerate(dataloader):\n",
        "        indexes = batch['index']\n",
        "        input_ids = batch['ids'].to(device, dtype=torch.long)\n",
        "        mask = batch['mask'].to(device, dtype=torch.long)\n",
        "        targets = batch['target'].to(device, dtype=torch.long)\n",
        "\n",
        "        loss_main, main_prob = model(input_ids=input_ids, attention_mask=mask, labels=targets,device = device)\n",
        "\n",
        "        tr_loss += loss_main.item()\n",
        "        nb_tr_steps += 1\n",
        "        predicted_labels = torch.argmax(main_prob, dim=1)\n",
        "        targets = targets.view(-1)\n",
        "        tmp_tr_accuracy = accuracy_score(targets.cpu().numpy(), predicted_labels.cpu().numpy())\n",
        "        tr_accuracy += tmp_tr_accuracy\n",
        "        if idx % 100 == 0:\n",
        "            print(f'\\tModel loss at {idx} steps: {tr_loss}')\n",
        "            if idx != 0:\n",
        "                print(f'\\tModel Accuracy : {tr_accuracy/nb_tr_steps}')\n",
        "            with open('live.txt', 'a') as fh:\n",
        "                fh.write(f'\\tModel Loss at {idx} steps : {tr_loss}\\n')\n",
        "                if idx != 0:\n",
        "                    fh.write(f'\\tModel Accuracy : {tr_accuracy/nb_tr_steps}')\n",
        "        torch.nn.utils.clip_grad_norm_(\n",
        "            parameters = model.parameters(),\n",
        "            max_norm = 10\n",
        "        )\n",
        "        optimizer.zero_grad()\n",
        "        loss_main.backward()\n",
        "        optimizer.step()\n",
        "\n",
        "\n",
        "    print(f'\\tModel loss for the epoch: {tr_loss}')\n",
        "    print(f'\\tTraining accuracy for epoch: {tr_accuracy/nb_tr_steps}')\n"
      ]
    },
    {
      "cell_type": "code",
      "execution_count": null,
      "metadata": {
        "id": "bxJsKf8ZH1Uy"
      },
      "outputs": [],
      "source": [
        "\n",
        "\n",
        "def valid(model, dataloader, device):\n",
        "    eval_loss = 0\n",
        "    bias_loss = 0\n",
        "    eval_accuracy = 0\n",
        "    model.eval()\n",
        "    nb_eval_steps = 0\n",
        "    for batch in dataloader:\n",
        "        indexes = batch['index']\n",
        "        input_ids = batch['ids'].to(device, dtype=torch.long)\n",
        "        mask = batch['mask'].to(device, dtype=torch.long)\n",
        "        targets = batch['target'].to(device, dtype=torch.long)\n",
        "\n",
        "        loss_main, main_prob = model(input_ids=input_ids, attention_mask=mask, labels=targets,device = device)\n",
        "        eval_loss += loss_main.item()\n",
        "        nb_eval_steps += 1\n",
        "        #compute training accuracy\n",
        "        predicted_labels = torch.argmax(main_prob, dim=1)\n",
        "        # print(predicted_labels.shape)\n",
        "        targets = targets.view(-1)\n",
        "        # print(targets.shape)\n",
        "        tmp_eval_accuracy = accuracy_score(targets.cpu().numpy(), predicted_labels.cpu().numpy())\n",
        "        eval_accuracy += tmp_eval_accuracy\n",
        "\n",
        "    print(f'\\tValidation accuracy for epoch: {eval_accuracy/nb_eval_steps}')\n",
        "\n",
        "    return eval_loss, eval_accuracy/nb_eval_steps"
      ]
    },
    {
      "cell_type": "code",
      "execution_count": null,
      "metadata": {
        "id": "KSQsNQDhStPy"
      },
      "outputs": [],
      "source": [
        "def inference(model, dataloader, tokenizer, device):\n",
        "    model.eval()\n",
        "    pred_lst = []\n",
        "    test_loss = 0\n",
        "    bias_loss = 0\n",
        "    nb_test_steps = 0\n",
        "    test_accuracy = 0\n",
        "    for idx, batch in enumerate(tqdm(dataloader, ncols=100)):\n",
        "        indexes = batch['index']\n",
        "        input_ids = batch['ids'].to(device, dtype=torch.long)\n",
        "        mask = batch['mask'].to(device, dtype=torch.long)\n",
        "        targets = batch['target'].to(device, dtype=torch.long)\n",
        "        with torch.no_grad():\n",
        "            loss_main, main_prob = model(input_ids=input_ids, attention_mask=mask, labels=targets, device = device)\n",
        "        test_loss += loss_main.item()\n",
        "        nb_test_steps += 1\n",
        "        predicted_labels = torch.argmax(main_prob, dim=1)\n",
        "        # print(predicted_labels.shape)\n",
        "        targets = targets.view(-1)\n",
        "        # print(targets.shape)\n",
        "        tmp_test_accuracy = accuracy_score(targets.cpu().numpy(), predicted_labels.cpu().numpy())\n",
        "        test_accuracy += tmp_test_accuracy\n",
        "\n",
        "    test_accuracy = test_accuracy / nb_test_steps\n",
        "    return test_accuracy"
      ]
    },
    {
      "cell_type": "code",
      "execution_count": null,
      "metadata": {
        "colab": {
          "base_uri": "https://localhost:8080/"
        },
        "id": "WOu_Yhp5I2Qw",
        "outputId": "9ed2342c-1bea-4c6a-bdec-76a04f37862d"
      },
      "outputs": [
        {
          "name": "stderr",
          "output_type": "stream",
          "text": [
            "Some weights of MainModel were not initialized from the model checkpoint at bert-base-uncased and are newly initialized: ['hidden_layer.bias', 'classifier.bias', 'classifier.weight', 'hidden_layer.weight']\n",
            "You should probably TRAIN this model on a down-stream task to be able to use it for predictions and inference.\n"
          ]
        },
        {
          "name": "stdout",
          "output_type": "stream",
          "text": [
            "Epoch 1:\n",
            "\tModel loss at 0 steps: 0.69343501329422\n",
            "\tModel loss for the epoch: 6.933956801891327\n",
            "\tTraining accuracy for epoch: 0.5\n",
            "\tValidation accuracy for epoch: 0.625\n",
            "\tValidation loss: 1.3792420625686646\n",
            "Epoch 2:\n",
            "\tModel loss at 0 steps: 0.6973687410354614\n",
            "\tModel loss for the epoch: 6.875142872333527\n",
            "\tTraining accuracy for epoch: 0.5625\n",
            "\tValidation accuracy for epoch: 0.8125\n",
            "\tValidation loss: 1.349338412284851\n",
            "Epoch 3:\n",
            "\tModel loss at 0 steps: 0.6857047080993652\n",
            "\tModel loss for the epoch: 6.830626010894775\n",
            "\tTraining accuracy for epoch: 0.5625\n",
            "\tValidation accuracy for epoch: 0.8125\n",
            "\tValidation loss: 1.3269217014312744\n",
            "Epoch 4:\n",
            "\tModel loss at 0 steps: 0.7046381831169128\n",
            "\tModel loss for the epoch: 6.747569978237152\n",
            "\tTraining accuracy for epoch: 0.6625\n",
            "\tValidation accuracy for epoch: 0.5625\n",
            "\tValidation loss: 1.3461459875106812\n",
            "Epoch 5:\n",
            "\tModel loss at 0 steps: 0.657723605632782\n",
            "\tModel loss for the epoch: 6.655515670776367\n",
            "\tTraining accuracy for epoch: 0.6875\n",
            "\tValidation accuracy for epoch: 0.375\n",
            "\tValidation loss: 1.3979719281196594\n",
            "Epoch 6:\n",
            "\tModel loss at 0 steps: 0.6680782437324524\n",
            "\tModel loss for the epoch: 6.558844208717346\n",
            "\tTraining accuracy for epoch: 0.7\n",
            "\tValidation accuracy for epoch: 0.5625\n",
            "\tValidation loss: 1.3508692383766174\n",
            "Epoch 7:\n",
            "\tModel loss at 0 steps: 0.644288957118988\n",
            "\tModel loss for the epoch: 6.4370269775390625\n",
            "\tTraining accuracy for epoch: 0.7375\n",
            "\tValidation accuracy for epoch: 0.5625\n",
            "\tValidation loss: 1.3308215141296387\n",
            "Epoch 8:\n",
            "\tModel loss at 0 steps: 0.614238977432251\n",
            "\tModel loss for the epoch: 6.299466609954834\n",
            "\tTraining accuracy for epoch: 0.875\n",
            "\tValidation accuracy for epoch: 0.375\n",
            "\tValidation loss: 1.3812947273254395\n",
            "Epoch 9:\n",
            "\tModel loss at 0 steps: 0.6005860567092896\n",
            "\tModel loss for the epoch: 6.142008900642395\n",
            "\tTraining accuracy for epoch: 0.925\n",
            "\tValidation accuracy for epoch: 0.8125\n",
            "\tValidation loss: 1.2450881600379944\n",
            "Epoch 10:\n",
            "\tModel loss at 0 steps: 0.6126598715782166\n",
            "\tModel loss for the epoch: 5.981520712375641\n",
            "\tTraining accuracy for epoch: 0.9875\n",
            "\tValidation accuracy for epoch: 0.8125\n",
            "\tValidation loss: 1.2256064414978027\n",
            "Total training time : 73.07363533973694\n"
          ]
        },
        {
          "name": "stderr",
          "output_type": "stream",
          "text": [
            "100%|█████████████████████████████████████████████████████████████████| 2/2 [00:00<00:00,  6.55it/s]"
          ]
        },
        {
          "name": "stdout",
          "output_type": "stream",
          "text": [
            "\t test accuracy: 0.5625\n"
          ]
        },
        {
          "name": "stderr",
          "output_type": "stream",
          "text": [
            "\n"
          ]
        }
      ],
      "source": [
        "#main function\n",
        "\n",
        "config = AutoConfig.from_pretrained(\"bert-base-uncased\" , num_labels=num_labels)\n",
        "model = MainModel.from_pretrained(\"bert-base-uncased\", config = config)\n",
        "optimizer = torch.optim.Adam(params=model.parameters(), lr=LEARNING_RATE)\n",
        "device = 'cuda' if cuda.is_available() else 'cpu'\n",
        "model.to(device)\n",
        "train_dataloader = DataLoader(train_dataset, shuffle = True, batch_size=BATCH_SIZE)\n",
        "devel_dataloader = DataLoader(devel_dataset, shuffle=True, batch_size=BATCH_SIZE)\n",
        "test_dataloader = DataLoader(test_dataset, shuffle=False, batch_size=BATCH_SIZE)\n",
        "num_epochs = 10\n",
        "max_acc = 0.0\n",
        "patience = 0\n",
        "best_model = model\n",
        "best_tokenizer = tokenizer\n",
        "start = time.time()\n",
        "for epoch in range(num_epochs):\n",
        "    print(f'Epoch {epoch+1}:')\n",
        "    train(model, train_dataloader, optimizer, device)\n",
        "    validation_loss, eval_acc = valid(model, devel_dataloader, device)\n",
        "    print(f'\\tValidation loss: {validation_loss}')\n",
        "    if eval_acc >= max_acc:\n",
        "        max_acc = eval_acc\n",
        "        patience = 0\n",
        "        best_model = model\n",
        "        best_tokenizer = tokenizer\n",
        "    else:\n",
        "        patience += 1\n",
        "        if patience > 5:\n",
        "            print(\"Early stopping at epoch : \",epoch)\n",
        "            patience = 0\n",
        "            break\n",
        "\n",
        "end = time.time()\n",
        "total_time = end - start\n",
        "\n",
        "print(f\"Total training time : {total_time}\")\n",
        "\n",
        "test_accuracy = inference(model, test_dataloader, tokenizer, device)\n",
        "print(f'\\t test accuracy: {test_accuracy}')"
      ]
    },
    {
      "cell_type": "code",
      "execution_count": null,
      "metadata": {
        "id": "EucoB83VMj-i"
      },
      "outputs": [],
      "source": []
    }
  ],
  "metadata": {
    "accelerator": "GPU",
    "colab": {
      "gpuType": "T4",
      "provenance": []
    },
    "kernelspec": {
      "display_name": "Python 3",
      "name": "python3"
    },
    "language_info": {
      "name": "python"
    }
  },
  "nbformat": 4,
  "nbformat_minor": 0
}
